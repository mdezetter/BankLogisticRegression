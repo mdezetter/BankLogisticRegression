{
 "cells": [
  {
   "cell_type": "markdown",
   "id": "d4cadd54",
   "metadata": {},
   "source": [
    "# Logistic Regression on Bank Customers\n"
   ]
  },
  {
   "cell_type": "code",
   "execution_count": 115,
   "id": "ead11ef8",
   "metadata": {},
   "outputs": [],
   "source": [
    "import pandas as pd\n",
    "import numpy as np\n",
    "import matplotlib.pyplot as plt\n",
    "from matplotlib.colors import ListedColormap\n",
    "import seaborn as sns"
   ]
  },
  {
   "cell_type": "markdown",
   "id": "80d38c0c",
   "metadata": {},
   "source": [
    "## Data Read in & Exploration"
   ]
  },
  {
   "cell_type": "code",
   "execution_count": 116,
   "id": "27365d16",
   "metadata": {},
   "outputs": [
    {
     "data": {
      "text/html": [
       "<div>\n",
       "<style scoped>\n",
       "    .dataframe tbody tr th:only-of-type {\n",
       "        vertical-align: middle;\n",
       "    }\n",
       "\n",
       "    .dataframe tbody tr th {\n",
       "        vertical-align: top;\n",
       "    }\n",
       "\n",
       "    .dataframe thead th {\n",
       "        text-align: right;\n",
       "    }\n",
       "</style>\n",
       "<table border=\"1\" class=\"dataframe\">\n",
       "  <thead>\n",
       "    <tr style=\"text-align: right;\">\n",
       "      <th></th>\n",
       "      <th>age</th>\n",
       "      <th>job</th>\n",
       "      <th>marital</th>\n",
       "      <th>education</th>\n",
       "      <th>default</th>\n",
       "      <th>housing</th>\n",
       "      <th>loan</th>\n",
       "      <th>contact</th>\n",
       "      <th>month</th>\n",
       "      <th>day_of_week</th>\n",
       "      <th>...</th>\n",
       "      <th>campaign</th>\n",
       "      <th>pdays</th>\n",
       "      <th>previous</th>\n",
       "      <th>poutcome</th>\n",
       "      <th>emp.var.rate</th>\n",
       "      <th>cons.price.idx</th>\n",
       "      <th>cons.conf.idx</th>\n",
       "      <th>euribor3m</th>\n",
       "      <th>nr.employed</th>\n",
       "      <th>y</th>\n",
       "    </tr>\n",
       "  </thead>\n",
       "  <tbody>\n",
       "    <tr>\n",
       "      <th>0</th>\n",
       "      <td>30</td>\n",
       "      <td>blue-collar</td>\n",
       "      <td>married</td>\n",
       "      <td>basic.9y</td>\n",
       "      <td>no</td>\n",
       "      <td>yes</td>\n",
       "      <td>no</td>\n",
       "      <td>cellular</td>\n",
       "      <td>may</td>\n",
       "      <td>fri</td>\n",
       "      <td>...</td>\n",
       "      <td>2</td>\n",
       "      <td>999</td>\n",
       "      <td>0</td>\n",
       "      <td>nonexistent</td>\n",
       "      <td>-1.8</td>\n",
       "      <td>92.893</td>\n",
       "      <td>-46.2</td>\n",
       "      <td>1.313</td>\n",
       "      <td>5099.1</td>\n",
       "      <td>no</td>\n",
       "    </tr>\n",
       "    <tr>\n",
       "      <th>1</th>\n",
       "      <td>39</td>\n",
       "      <td>services</td>\n",
       "      <td>single</td>\n",
       "      <td>high.school</td>\n",
       "      <td>no</td>\n",
       "      <td>no</td>\n",
       "      <td>no</td>\n",
       "      <td>telephone</td>\n",
       "      <td>may</td>\n",
       "      <td>fri</td>\n",
       "      <td>...</td>\n",
       "      <td>4</td>\n",
       "      <td>999</td>\n",
       "      <td>0</td>\n",
       "      <td>nonexistent</td>\n",
       "      <td>1.1</td>\n",
       "      <td>93.994</td>\n",
       "      <td>-36.4</td>\n",
       "      <td>4.855</td>\n",
       "      <td>5191.0</td>\n",
       "      <td>no</td>\n",
       "    </tr>\n",
       "    <tr>\n",
       "      <th>2</th>\n",
       "      <td>25</td>\n",
       "      <td>services</td>\n",
       "      <td>married</td>\n",
       "      <td>high.school</td>\n",
       "      <td>no</td>\n",
       "      <td>yes</td>\n",
       "      <td>no</td>\n",
       "      <td>telephone</td>\n",
       "      <td>jun</td>\n",
       "      <td>wed</td>\n",
       "      <td>...</td>\n",
       "      <td>1</td>\n",
       "      <td>999</td>\n",
       "      <td>0</td>\n",
       "      <td>nonexistent</td>\n",
       "      <td>1.4</td>\n",
       "      <td>94.465</td>\n",
       "      <td>-41.8</td>\n",
       "      <td>4.962</td>\n",
       "      <td>5228.1</td>\n",
       "      <td>no</td>\n",
       "    </tr>\n",
       "    <tr>\n",
       "      <th>3</th>\n",
       "      <td>38</td>\n",
       "      <td>services</td>\n",
       "      <td>married</td>\n",
       "      <td>basic.9y</td>\n",
       "      <td>no</td>\n",
       "      <td>unknown</td>\n",
       "      <td>unknown</td>\n",
       "      <td>telephone</td>\n",
       "      <td>jun</td>\n",
       "      <td>fri</td>\n",
       "      <td>...</td>\n",
       "      <td>3</td>\n",
       "      <td>999</td>\n",
       "      <td>0</td>\n",
       "      <td>nonexistent</td>\n",
       "      <td>1.4</td>\n",
       "      <td>94.465</td>\n",
       "      <td>-41.8</td>\n",
       "      <td>4.959</td>\n",
       "      <td>5228.1</td>\n",
       "      <td>no</td>\n",
       "    </tr>\n",
       "    <tr>\n",
       "      <th>4</th>\n",
       "      <td>47</td>\n",
       "      <td>admin.</td>\n",
       "      <td>married</td>\n",
       "      <td>university.degree</td>\n",
       "      <td>no</td>\n",
       "      <td>yes</td>\n",
       "      <td>no</td>\n",
       "      <td>cellular</td>\n",
       "      <td>nov</td>\n",
       "      <td>mon</td>\n",
       "      <td>...</td>\n",
       "      <td>1</td>\n",
       "      <td>999</td>\n",
       "      <td>0</td>\n",
       "      <td>nonexistent</td>\n",
       "      <td>-0.1</td>\n",
       "      <td>93.200</td>\n",
       "      <td>-42.0</td>\n",
       "      <td>4.191</td>\n",
       "      <td>5195.8</td>\n",
       "      <td>no</td>\n",
       "    </tr>\n",
       "  </tbody>\n",
       "</table>\n",
       "<p>5 rows × 21 columns</p>\n",
       "</div>"
      ],
      "text/plain": [
       "   age          job  marital          education default  housing     loan  \\\n",
       "0   30  blue-collar  married           basic.9y      no      yes       no   \n",
       "1   39     services   single        high.school      no       no       no   \n",
       "2   25     services  married        high.school      no      yes       no   \n",
       "3   38     services  married           basic.9y      no  unknown  unknown   \n",
       "4   47       admin.  married  university.degree      no      yes       no   \n",
       "\n",
       "     contact month day_of_week  ...  campaign  pdays  previous     poutcome  \\\n",
       "0   cellular   may         fri  ...         2    999         0  nonexistent   \n",
       "1  telephone   may         fri  ...         4    999         0  nonexistent   \n",
       "2  telephone   jun         wed  ...         1    999         0  nonexistent   \n",
       "3  telephone   jun         fri  ...         3    999         0  nonexistent   \n",
       "4   cellular   nov         mon  ...         1    999         0  nonexistent   \n",
       "\n",
       "  emp.var.rate  cons.price.idx  cons.conf.idx  euribor3m  nr.employed   y  \n",
       "0         -1.8          92.893          -46.2      1.313       5099.1  no  \n",
       "1          1.1          93.994          -36.4      4.855       5191.0  no  \n",
       "2          1.4          94.465          -41.8      4.962       5228.1  no  \n",
       "3          1.4          94.465          -41.8      4.959       5228.1  no  \n",
       "4         -0.1          93.200          -42.0      4.191       5195.8  no  \n",
       "\n",
       "[5 rows x 21 columns]"
      ]
     },
     "execution_count": 116,
     "metadata": {},
     "output_type": "execute_result"
    }
   ],
   "source": [
    "bank = pd.read_csv('Bank.csv', sep = ';')\n",
    "bank.head()"
   ]
  },
  {
   "cell_type": "code",
   "execution_count": 117,
   "id": "7a2940d0",
   "metadata": {},
   "outputs": [
    {
     "data": {
      "text/plain": [
       "Index(['age', 'job', 'marital', 'education', 'default', 'housing', 'loan',\n",
       "       'contact', 'month', 'day_of_week', 'duration', 'campaign', 'pdays',\n",
       "       'previous', 'poutcome', 'emp.var.rate', 'cons.price.idx',\n",
       "       'cons.conf.idx', 'euribor3m', 'nr.employed', 'y'],\n",
       "      dtype='object')"
      ]
     },
     "execution_count": 117,
     "metadata": {},
     "output_type": "execute_result"
    }
   ],
   "source": [
    "# View the columns\n",
    "bank.columns"
   ]
  },
  {
   "cell_type": "code",
   "execution_count": 118,
   "id": "11779b63",
   "metadata": {},
   "outputs": [
    {
     "data": {
      "text/plain": [
       "age                 int64\n",
       "job                object\n",
       "marital            object\n",
       "education          object\n",
       "default            object\n",
       "housing            object\n",
       "loan               object\n",
       "contact            object\n",
       "month              object\n",
       "day_of_week        object\n",
       "duration            int64\n",
       "campaign            int64\n",
       "pdays               int64\n",
       "previous            int64\n",
       "poutcome           object\n",
       "emp.var.rate      float64\n",
       "cons.price.idx    float64\n",
       "cons.conf.idx     float64\n",
       "euribor3m         float64\n",
       "nr.employed       float64\n",
       "y                  object\n",
       "dtype: object"
      ]
     },
     "execution_count": 118,
     "metadata": {},
     "output_type": "execute_result"
    }
   ],
   "source": [
    "# View datatypes\n",
    "bank.dtypes"
   ]
  },
  {
   "cell_type": "markdown",
   "id": "93005323",
   "metadata": {},
   "source": [
    "The y column at the bottom is the outcome variable recording yes and no\n",
    "yes = customers who bought term deposit\n",
    "no = customsers who haven't bought term deposit.\n",
    "\n",
    "I'm changing this to 0 and 1 so I can use it in modeling."
   ]
  },
  {
   "cell_type": "code",
   "execution_count": 119,
   "id": "cf8fbdd4",
   "metadata": {},
   "outputs": [],
   "source": [
    "# Converting yes to 1 and no to 0\n",
    "\n",
    "bank['y'] = (bank['y'] == 'yes').astype(int)"
   ]
  },
  {
   "cell_type": "code",
   "execution_count": 120,
   "id": "e495c667",
   "metadata": {},
   "outputs": [
    {
     "data": {
      "text/plain": [
       "array(['basic.9y', 'high.school', 'university.degree',\n",
       "       'professional.course', 'basic.6y', 'basic.4y', 'unknown',\n",
       "       'illiterate'], dtype=object)"
      ]
     },
     "execution_count": 120,
     "metadata": {},
     "output_type": "execute_result"
    }
   ],
   "source": [
    "# Education column exploration\n",
    "\n",
    "bank['education'].unique()"
   ]
  },
  {
   "cell_type": "markdown",
   "id": "1084c6ea",
   "metadata": {},
   "source": [
    "Basic category has been repeated three times with basic.4y, basic.6y and basic.9y most likely to represent the years of school. We can combine these and call them 'basic'"
   ]
  },
  {
   "cell_type": "code",
   "execution_count": 121,
   "id": "e50abc2a",
   "metadata": {},
   "outputs": [],
   "source": [
    "# Combining the basic groupings into one\n",
    "bank['education'] = np.where(bank['education'] == 'basic.9y', 'Basic', bank['education'])\n",
    "bank['education'] = np.where(bank['education'] == 'basic.6y', 'Basic', bank['education'])\n",
    "bank['education'] = np.where(bank['education'] == 'basic.4y', 'Basic', bank['education'])\n",
    "\n",
    "# Renaming University Degree column\n",
    "bank['education'] = np.where(bank['education'] == 'university.degree', 'University Degree', bank['education'])\n",
    "\n",
    "# Renaming Professional Course column\n",
    "bank['education'] = np.where(bank['education'] == 'professional.course', 'Professional Course', bank['education'])\n",
    "\n",
    "# Renaming High School column\n",
    "bank['education'] = np.where(bank['education'] == 'high.school', 'High School', bank['education'])\n",
    "\n",
    "# Capitalizing Illiterate column\n",
    "bank['education'] = np.where(bank['education'] == 'illiterate', 'Illiterate', bank['education'])\n",
    "\n",
    "# Capitalizing Unknown column\n",
    "bank['education'] = np.where(bank['education'] == 'unknown', 'Unknown', bank['education'])"
   ]
  },
  {
   "cell_type": "code",
   "execution_count": 122,
   "id": "4ade2da2",
   "metadata": {},
   "outputs": [
    {
     "data": {
      "text/plain": [
       "array(['Basic', 'High School', 'University Degree', 'Professional Course',\n",
       "       'Unknown', 'Illiterate'], dtype=object)"
      ]
     },
     "execution_count": 122,
     "metadata": {},
     "output_type": "execute_result"
    }
   ],
   "source": [
    "# Check the categories were changed\n",
    "\n",
    "bank['education'].unique()"
   ]
  },
  {
   "cell_type": "code",
   "execution_count": 123,
   "id": "29ee151c",
   "metadata": {},
   "outputs": [
    {
     "data": {
      "text/plain": [
       "0    3668\n",
       "1     451\n",
       "Name: y, dtype: int64"
      ]
     },
     "execution_count": 123,
     "metadata": {},
     "output_type": "execute_result"
    }
   ],
   "source": [
    "# Calculating the number of people who did and didn't purchase the term deposit\n",
    "\n",
    "bank['y'].value_counts()"
   ]
  },
  {
   "cell_type": "markdown",
   "id": "0c9ef7a1",
   "metadata": {},
   "source": [
    "3,668 people bought term deposit\n",
    "\n",
    "451 people didn't buy it"
   ]
  },
  {
   "cell_type": "code",
   "execution_count": 124,
   "id": "a95c60b4",
   "metadata": {},
   "outputs": [
    {
     "data": {
      "text/html": [
       "<div>\n",
       "<style scoped>\n",
       "    .dataframe tbody tr th:only-of-type {\n",
       "        vertical-align: middle;\n",
       "    }\n",
       "\n",
       "    .dataframe tbody tr th {\n",
       "        vertical-align: top;\n",
       "    }\n",
       "\n",
       "    .dataframe thead th {\n",
       "        text-align: right;\n",
       "    }\n",
       "</style>\n",
       "<table border=\"1\" class=\"dataframe\">\n",
       "  <thead>\n",
       "    <tr style=\"text-align: right;\">\n",
       "      <th></th>\n",
       "      <th>age</th>\n",
       "      <th>duration</th>\n",
       "      <th>campaign</th>\n",
       "      <th>pdays</th>\n",
       "      <th>previous</th>\n",
       "      <th>emp.var.rate</th>\n",
       "      <th>cons.price.idx</th>\n",
       "      <th>cons.conf.idx</th>\n",
       "      <th>euribor3m</th>\n",
       "      <th>nr.employed</th>\n",
       "    </tr>\n",
       "    <tr>\n",
       "      <th>y</th>\n",
       "      <th></th>\n",
       "      <th></th>\n",
       "      <th></th>\n",
       "      <th></th>\n",
       "      <th></th>\n",
       "      <th></th>\n",
       "      <th></th>\n",
       "      <th></th>\n",
       "      <th></th>\n",
       "      <th></th>\n",
       "    </tr>\n",
       "  </thead>\n",
       "  <tbody>\n",
       "    <tr>\n",
       "      <th>0</th>\n",
       "      <td>39.90</td>\n",
       "      <td>219.41</td>\n",
       "      <td>2.61</td>\n",
       "      <td>982.76</td>\n",
       "      <td>0.14</td>\n",
       "      <td>0.24</td>\n",
       "      <td>93.60</td>\n",
       "      <td>-40.59</td>\n",
       "      <td>3.80</td>\n",
       "      <td>5175.50</td>\n",
       "    </tr>\n",
       "    <tr>\n",
       "      <th>1</th>\n",
       "      <td>41.89</td>\n",
       "      <td>560.79</td>\n",
       "      <td>1.98</td>\n",
       "      <td>778.72</td>\n",
       "      <td>0.59</td>\n",
       "      <td>-1.18</td>\n",
       "      <td>93.42</td>\n",
       "      <td>-39.79</td>\n",
       "      <td>2.15</td>\n",
       "      <td>5093.12</td>\n",
       "    </tr>\n",
       "  </tbody>\n",
       "</table>\n",
       "</div>"
      ],
      "text/plain": [
       "     age  duration  campaign   pdays  previous  emp.var.rate  cons.price.idx  \\\n",
       "y                                                                              \n",
       "0  39.90    219.41      2.61  982.76      0.14          0.24           93.60   \n",
       "1  41.89    560.79      1.98  778.72      0.59         -1.18           93.42   \n",
       "\n",
       "   cons.conf.idx  euribor3m  nr.employed  \n",
       "y                                         \n",
       "0         -40.59       3.80      5175.50  \n",
       "1         -39.79       2.15      5093.12  "
      ]
     },
     "execution_count": 124,
     "metadata": {},
     "output_type": "execute_result"
    }
   ],
   "source": [
    "# I want to see the means across the Y and N groups of people.\n",
    "\n",
    "round(bank.groupby('y').mean(numeric_only=True), 2)"
   ]
  },
  {
   "cell_type": "markdown",
   "id": "908f4ec6",
   "metadata": {},
   "source": [
    "**Notes**\n",
    "\n",
    "Average age of those who did purchase term deposit is higher then those who didn't (39 vs 42)\n",
    "\n",
    "The pdays (days since the customer was last contacted) lower for customers who bought. The lower the pdays better the memory of the last call, therefore the better chances of the sale. (982 vs 778)\n",
    "\n",
    "Campaign (number of calls made during the current campaign) lower for customers who bought the term deposit. (2.61 calls vs 1.98)\n",
    "\n",
    "I want to look into marital status and education next\n"
   ]
  },
  {
   "cell_type": "code",
   "execution_count": 125,
   "id": "20ff5f5d",
   "metadata": {
    "scrolled": false
   },
   "outputs": [
    {
     "data": {
      "text/html": [
       "<div>\n",
       "<style scoped>\n",
       "    .dataframe tbody tr th:only-of-type {\n",
       "        vertical-align: middle;\n",
       "    }\n",
       "\n",
       "    .dataframe tbody tr th {\n",
       "        vertical-align: top;\n",
       "    }\n",
       "\n",
       "    .dataframe thead th {\n",
       "        text-align: right;\n",
       "    }\n",
       "</style>\n",
       "<table border=\"1\" class=\"dataframe\">\n",
       "  <thead>\n",
       "    <tr style=\"text-align: right;\">\n",
       "      <th></th>\n",
       "      <th>age</th>\n",
       "      <th>duration</th>\n",
       "      <th>campaign</th>\n",
       "      <th>pdays</th>\n",
       "      <th>previous</th>\n",
       "      <th>emp.var.rate</th>\n",
       "      <th>cons.price.idx</th>\n",
       "      <th>cons.conf.idx</th>\n",
       "      <th>euribor3m</th>\n",
       "      <th>nr.employed</th>\n",
       "      <th>y</th>\n",
       "    </tr>\n",
       "    <tr>\n",
       "      <th>education</th>\n",
       "      <th></th>\n",
       "      <th></th>\n",
       "      <th></th>\n",
       "      <th></th>\n",
       "      <th></th>\n",
       "      <th></th>\n",
       "      <th></th>\n",
       "      <th></th>\n",
       "      <th></th>\n",
       "      <th></th>\n",
       "      <th></th>\n",
       "    </tr>\n",
       "  </thead>\n",
       "  <tbody>\n",
       "    <tr>\n",
       "      <th>Basic</th>\n",
       "      <td>42.34</td>\n",
       "      <td>253.90</td>\n",
       "      <td>2.43</td>\n",
       "      <td>978.82</td>\n",
       "      <td>0.15</td>\n",
       "      <td>0.24</td>\n",
       "      <td>93.66</td>\n",
       "      <td>-41.12</td>\n",
       "      <td>3.78</td>\n",
       "      <td>5174.13</td>\n",
       "      <td>0.08</td>\n",
       "    </tr>\n",
       "    <tr>\n",
       "      <th>High School</th>\n",
       "      <td>38.10</td>\n",
       "      <td>258.53</td>\n",
       "      <td>2.63</td>\n",
       "      <td>958.02</td>\n",
       "      <td>0.21</td>\n",
       "      <td>-0.00</td>\n",
       "      <td>93.56</td>\n",
       "      <td>-41.00</td>\n",
       "      <td>3.51</td>\n",
       "      <td>5163.21</td>\n",
       "      <td>0.11</td>\n",
       "    </tr>\n",
       "    <tr>\n",
       "      <th>Illiterate</th>\n",
       "      <td>42.00</td>\n",
       "      <td>146.00</td>\n",
       "      <td>4.00</td>\n",
       "      <td>999.00</td>\n",
       "      <td>0.00</td>\n",
       "      <td>-2.90</td>\n",
       "      <td>92.20</td>\n",
       "      <td>-31.40</td>\n",
       "      <td>0.83</td>\n",
       "      <td>5076.20</td>\n",
       "      <td>0.00</td>\n",
       "    </tr>\n",
       "    <tr>\n",
       "      <th>Professional Course</th>\n",
       "      <td>40.21</td>\n",
       "      <td>278.82</td>\n",
       "      <td>2.51</td>\n",
       "      <td>958.21</td>\n",
       "      <td>0.19</td>\n",
       "      <td>0.16</td>\n",
       "      <td>93.60</td>\n",
       "      <td>-40.13</td>\n",
       "      <td>3.70</td>\n",
       "      <td>5167.60</td>\n",
       "      <td>0.12</td>\n",
       "    </tr>\n",
       "    <tr>\n",
       "      <th>University Degree</th>\n",
       "      <td>39.02</td>\n",
       "      <td>247.71</td>\n",
       "      <td>2.58</td>\n",
       "      <td>947.90</td>\n",
       "      <td>0.21</td>\n",
       "      <td>-0.01</td>\n",
       "      <td>93.50</td>\n",
       "      <td>-39.83</td>\n",
       "      <td>3.55</td>\n",
       "      <td>5163.02</td>\n",
       "      <td>0.13</td>\n",
       "    </tr>\n",
       "    <tr>\n",
       "      <th>Unknown</th>\n",
       "      <td>42.83</td>\n",
       "      <td>267.28</td>\n",
       "      <td>2.54</td>\n",
       "      <td>939.70</td>\n",
       "      <td>0.26</td>\n",
       "      <td>-0.07</td>\n",
       "      <td>93.64</td>\n",
       "      <td>-39.49</td>\n",
       "      <td>3.41</td>\n",
       "      <td>5151.26</td>\n",
       "      <td>0.16</td>\n",
       "    </tr>\n",
       "  </tbody>\n",
       "</table>\n",
       "</div>"
      ],
      "text/plain": [
       "                       age  duration  campaign   pdays  previous  \\\n",
       "education                                                          \n",
       "Basic                42.34    253.90      2.43  978.82      0.15   \n",
       "High School          38.10    258.53      2.63  958.02      0.21   \n",
       "Illiterate           42.00    146.00      4.00  999.00      0.00   \n",
       "Professional Course  40.21    278.82      2.51  958.21      0.19   \n",
       "University Degree    39.02    247.71      2.58  947.90      0.21   \n",
       "Unknown              42.83    267.28      2.54  939.70      0.26   \n",
       "\n",
       "                     emp.var.rate  cons.price.idx  cons.conf.idx  euribor3m  \\\n",
       "education                                                                     \n",
       "Basic                        0.24           93.66         -41.12       3.78   \n",
       "High School                 -0.00           93.56         -41.00       3.51   \n",
       "Illiterate                  -2.90           92.20         -31.40       0.83   \n",
       "Professional Course          0.16           93.60         -40.13       3.70   \n",
       "University Degree           -0.01           93.50         -39.83       3.55   \n",
       "Unknown                     -0.07           93.64         -39.49       3.41   \n",
       "\n",
       "                     nr.employed     y  \n",
       "education                               \n",
       "Basic                    5174.13  0.08  \n",
       "High School              5163.21  0.11  \n",
       "Illiterate               5076.20  0.00  \n",
       "Professional Course      5167.60  0.12  \n",
       "University Degree        5163.02  0.13  \n",
       "Unknown                  5151.26  0.16  "
      ]
     },
     "execution_count": 125,
     "metadata": {},
     "output_type": "execute_result"
    }
   ],
   "source": [
    "# Education means across Y and N groups\n",
    "\n",
    "round(bank.groupby('education').mean(numeric_only=True), 2)"
   ]
  },
  {
   "cell_type": "code",
   "execution_count": 126,
   "id": "2e635139",
   "metadata": {},
   "outputs": [
    {
     "data": {
      "text/html": [
       "<div>\n",
       "<style scoped>\n",
       "    .dataframe tbody tr th:only-of-type {\n",
       "        vertical-align: middle;\n",
       "    }\n",
       "\n",
       "    .dataframe tbody tr th {\n",
       "        vertical-align: top;\n",
       "    }\n",
       "\n",
       "    .dataframe thead th {\n",
       "        text-align: right;\n",
       "    }\n",
       "</style>\n",
       "<table border=\"1\" class=\"dataframe\">\n",
       "  <thead>\n",
       "    <tr style=\"text-align: right;\">\n",
       "      <th></th>\n",
       "      <th>age</th>\n",
       "      <th>duration</th>\n",
       "      <th>campaign</th>\n",
       "      <th>pdays</th>\n",
       "      <th>previous</th>\n",
       "      <th>emp.var.rate</th>\n",
       "      <th>cons.price.idx</th>\n",
       "      <th>cons.conf.idx</th>\n",
       "      <th>euribor3m</th>\n",
       "      <th>nr.employed</th>\n",
       "      <th>y</th>\n",
       "    </tr>\n",
       "    <tr>\n",
       "      <th>marital</th>\n",
       "      <th></th>\n",
       "      <th></th>\n",
       "      <th></th>\n",
       "      <th></th>\n",
       "      <th></th>\n",
       "      <th></th>\n",
       "      <th></th>\n",
       "      <th></th>\n",
       "      <th></th>\n",
       "      <th></th>\n",
       "      <th></th>\n",
       "    </tr>\n",
       "  </thead>\n",
       "  <tbody>\n",
       "    <tr>\n",
       "      <th>divorced</th>\n",
       "      <td>45.11</td>\n",
       "      <td>263.16</td>\n",
       "      <td>2.54</td>\n",
       "      <td>972.26</td>\n",
       "      <td>0.17</td>\n",
       "      <td>0.14</td>\n",
       "      <td>93.60</td>\n",
       "      <td>-40.62</td>\n",
       "      <td>3.71</td>\n",
       "      <td>5170.15</td>\n",
       "      <td>0.10</td>\n",
       "    </tr>\n",
       "    <tr>\n",
       "      <th>married</th>\n",
       "      <td>42.39</td>\n",
       "      <td>256.29</td>\n",
       "      <td>2.53</td>\n",
       "      <td>964.16</td>\n",
       "      <td>0.17</td>\n",
       "      <td>0.17</td>\n",
       "      <td>93.60</td>\n",
       "      <td>-40.36</td>\n",
       "      <td>3.73</td>\n",
       "      <td>5170.72</td>\n",
       "      <td>0.10</td>\n",
       "    </tr>\n",
       "    <tr>\n",
       "      <th>single</th>\n",
       "      <td>33.21</td>\n",
       "      <td>254.65</td>\n",
       "      <td>2.56</td>\n",
       "      <td>947.34</td>\n",
       "      <td>0.23</td>\n",
       "      <td>-0.13</td>\n",
       "      <td>93.53</td>\n",
       "      <td>-40.77</td>\n",
       "      <td>3.35</td>\n",
       "      <td>5155.76</td>\n",
       "      <td>0.13</td>\n",
       "    </tr>\n",
       "    <tr>\n",
       "      <th>unknown</th>\n",
       "      <td>42.27</td>\n",
       "      <td>336.27</td>\n",
       "      <td>2.55</td>\n",
       "      <td>999.00</td>\n",
       "      <td>0.09</td>\n",
       "      <td>0.18</td>\n",
       "      <td>93.54</td>\n",
       "      <td>-39.69</td>\n",
       "      <td>3.86</td>\n",
       "      <td>5174.41</td>\n",
       "      <td>0.09</td>\n",
       "    </tr>\n",
       "  </tbody>\n",
       "</table>\n",
       "</div>"
      ],
      "text/plain": [
       "            age  duration  campaign   pdays  previous  emp.var.rate  \\\n",
       "marital                                                               \n",
       "divorced  45.11    263.16      2.54  972.26      0.17          0.14   \n",
       "married   42.39    256.29      2.53  964.16      0.17          0.17   \n",
       "single    33.21    254.65      2.56  947.34      0.23         -0.13   \n",
       "unknown   42.27    336.27      2.55  999.00      0.09          0.18   \n",
       "\n",
       "          cons.price.idx  cons.conf.idx  euribor3m  nr.employed     y  \n",
       "marital                                                                \n",
       "divorced           93.60         -40.62       3.71      5170.15  0.10  \n",
       "married            93.60         -40.36       3.73      5170.72  0.10  \n",
       "single             93.53         -40.77       3.35      5155.76  0.13  \n",
       "unknown            93.54         -39.69       3.86      5174.41  0.09  "
      ]
     },
     "execution_count": 126,
     "metadata": {},
     "output_type": "execute_result"
    }
   ],
   "source": [
    "# Marital Status means across Y and N groups\n",
    "\n",
    "round(bank.groupby('marital').mean(numeric_only=True), 2)"
   ]
  },
  {
   "cell_type": "markdown",
   "id": "daa9ee60",
   "metadata": {},
   "source": [
    "## Visualizations\n",
    "\n",
    "* Histogram of education with separate bars for customers who did and didn't buy term deposit"
   ]
  },
  {
   "cell_type": "code",
   "execution_count": 127,
   "id": "928e565b",
   "metadata": {},
   "outputs": [
    {
     "data": {
      "text/plain": [
       "Text(0, 0.5, 'Frequency of Purchase')"
      ]
     },
     "execution_count": 127,
     "metadata": {},
     "output_type": "execute_result"
    },
    {
     "data": {
      "image/png": "[encoded data removed]",
      "text/plain": [
       "<Figure size 640x480 with 1 Axes>"
      ]
     },
     "metadata": {},
     "output_type": "display_data"
    }
   ],
   "source": [
    "# Setting colors & Style\n",
    "flatui = [\"#295fa6\", \"#2a95bf\", \"#8ca4fc\", \"#827272\", \"#d8c4ad\"]\n",
    "my_cmap = ListedColormap(sns.color_palette(flatui).as_hex())\n",
    "sns.set(style='whitegrid')\n",
    "\n",
    "# Creating Crosstab\n",
    "ct = pd.crosstab(bank['education'], bank['y'])\n",
    "\n",
    "# Plot\n",
    "ct.plot(kind='bar', cmap=my_cmap)\n",
    "plt.title('Purchase History for Education Level')\n",
    "plt.xlabel('Education')\n",
    "plt.ylabel('Frequency of Purchase')"
   ]
  },
  {
   "cell_type": "markdown",
   "id": "39d0d5d1",
   "metadata": {},
   "source": [
    "This plot shows us that the frequency of purchase depends a great deal on the education level.\n",
    "\n",
    "There is a jump from Illiterate and Unknown to Basic, High School, and Professional Course. \n",
    "\n",
    "Then there's another jump up to University Degree.\n",
    "\n",
    "Meaning, education level can be a great indicator of our outcome variable."
   ]
  },
  {
   "cell_type": "code",
   "execution_count": 128,
   "id": "131bf81f",
   "metadata": {},
   "outputs": [
    {
     "data": {
      "text/plain": [
       "Text(0, 0.5, 'Proportion of Customers')"
      ]
     },
     "execution_count": 128,
     "metadata": {},
     "output_type": "execute_result"
    },
    {
     "data": {
      "image/png": "[encoded data removed]",
      "text/plain": [
       "<Figure size 640x480 with 1 Axes>"
      ]
     },
     "metadata": {},
     "output_type": "display_data"
    }
   ],
   "source": [
    "# Setting colors & style\n",
    "flatui = [\"#295fa6\", \"#2a95bf\", \"#8ca4fc\", \"#827272\", \"#d8c4ad\"]\n",
    "my_cmap = ListedColormap(sns.color_palette(flatui).as_hex())\n",
    "sns.set(style='whitegrid')\n",
    "\n",
    "# Creating Crosstab\n",
    "ct = pd.crosstab(bank['marital'], bank['y'])\n",
    "\n",
    "# Plot\n",
    "ct.plot(kind='bar', stacked=True, cmap=my_cmap)\n",
    "plt.title('Stacked Bar Chart of Marital Status vs Purchase')\n",
    "plt.xlabel('Marital Status')\n",
    "plt.ylabel('Proportion of Customers')"
   ]
  },
  {
   "cell_type": "markdown",
   "id": "50f96e68",
   "metadata": {},
   "source": [
    "The proportion of people who did and didn't buy is nearly identical across marital status. Making marital status not a predictor of our outcome variable."
   ]
  },
  {
   "cell_type": "code",
   "execution_count": 129,
   "id": "dc663349",
   "metadata": {
    "scrolled": false
   },
   "outputs": [
    {
     "data": {
      "text/plain": [
       "Text(0, 0.5, 'Frequency of Purchase')"
      ]
     },
     "execution_count": 129,
     "metadata": {},
     "output_type": "execute_result"
    },
    {
     "data": {
      "image/png": "[encoded data removed]",
      "text/plain": [
       "<Figure size 640x480 with 1 Axes>"
      ]
     },
     "metadata": {},
     "output_type": "display_data"
    }
   ],
   "source": [
    "# Setting colors & Style\n",
    "flatui = [\"#295fa6\", \"#2a95bf\", \"#8ca4fc\", \"#827272\", \"#d8c4ad\"]\n",
    "my_cmap = ListedColormap(sns.color_palette(flatui).as_hex())\n",
    "sns.set(style='whitegrid')\n",
    "\n",
    "# Creating Crosstab\n",
    "ct = pd.crosstab(bank['day_of_week'], bank['y'])\n",
    "\n",
    "# Plot\n",
    "ct.plot(kind='bar', cmap=my_cmap)\n",
    "plt.title('Purchase Frequency for Day of Week')\n",
    "plt.xlabel('Day of Week')\n",
    "plt.ylabel('Frequency of Purchase')"
   ]
  },
  {
   "cell_type": "code",
   "execution_count": 140,
   "id": "d1f21965",
   "metadata": {},
   "outputs": [
    {
     "name": "stdout",
     "output_type": "stream",
     "text": [
      "['may' 'jun' 'nov' 'sep' 'jul' 'aug' 'mar' 'oct' 'apr' 'dec']\n"
     ]
    }
   ],
   "source": [
    "print(bank.month.unique())"
   ]
  },
  {
   "cell_type": "markdown",
   "id": "57d89f38",
   "metadata": {},
   "source": [
    "The days of the week are pretty evenly spread so this is not a great indicator. \n",
    "\n",
    "I'm going to check the months to see if that may be a predictor."
   ]
  },
  {
   "cell_type": "code",
   "execution_count": 147,
   "id": "5059f329",
   "metadata": {
    "scrolled": true
   },
   "outputs": [
    {
     "data": {
      "text/plain": [
       "Text(0, 0.5, 'Frequency of Purchase')"
      ]
     },
     "execution_count": 147,
     "metadata": {},
     "output_type": "execute_result"
    },
    {
     "data": {
      "image/png": "[encoded data removed]",
      "text/plain": [
       "<Figure size 640x480 with 1 Axes>"
      ]
     },
     "metadata": {},
     "output_type": "display_data"
    }
   ],
   "source": [
    "# Setting colors & Style\n",
    "flatui = [\"#295fa6\", \"#2a95bf\", \"#8ca4fc\", \"#827272\", \"#d8c4ad\"]\n",
    "my_cmap = ListedColormap(sns.color_palette(flatui).as_hex())\n",
    "sns.set(style='whitegrid')\n",
    "\n",
    "\n",
    "# Creating Crosstab\n",
    "ct = pd.crosstab(bank['month'], bank['y'])\n",
    "\n",
    "# Plot\n",
    "ct.plot(kind='bar', cmap=my_cmap)\n",
    "plt.title('Purchase Frequency for Month')\n",
    "plt.xlabel('Month')\n",
    "plt.ylabel('Frequency of Purchase')"
   ]
  },
  {
   "cell_type": "code",
   "execution_count": null,
   "id": "1e28eb8b",
   "metadata": {},
   "outputs": [],
   "source": []
  }
 ],
 "metadata": {
  "kernelspec": {
   "display_name": "Python 3 (ipykernel)",
   "language": "python",
   "name": "python3"
  },
  "language_info": {
   "codemirror_mode": {
    "name": "ipython",
    "version": 3
   },
   "file_extension": ".py",
   "mimetype": "text/x-python",
   "name": "python",
   "nbconvert_exporter": "python",
   "pygments_lexer": "ipython3",
   "version": "3.8.17"
  }
 },
 "nbformat": 4,
 "nbformat_minor": 5
}
